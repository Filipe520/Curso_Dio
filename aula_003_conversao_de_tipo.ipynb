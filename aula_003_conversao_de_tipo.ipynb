{
 "cells": [
  {
   "cell_type": "code",
   "execution_count": 3,
   "metadata": {},
   "outputs": [
    {
     "name": "stdout",
     "output_type": "stream",
     "text": [
      "10.5 26\n",
      "Você acabar de digitar 5\n"
     ]
    }
   ],
   "source": [
    "preco = \"10.50\"\n",
    "idade = \"26\"\n",
    "print(float(preco), int(idade))\n",
    "\n",
    "n1 = int(input(\"Digite um número? \"))\n",
    "print(f\"Você acabar de digitar {n1}\")"
   ]
  },
  {
   "cell_type": "code",
   "execution_count": 11,
   "metadata": {},
   "outputs": [
    {
     "name": "stdout",
     "output_type": "stream",
     "text": [
      "1.9\n",
      "<class 'int'>\n",
      "<class 'str'>\n",
      "50\n",
      "-=--=--=--=--=--=--=--=--=--=-\n"
     ]
    }
   ],
   "source": [
    "print(float(1.9))\n",
    "valor = 10\n",
    "valor_str = str(valor)\n",
    "print(type(valor))\n",
    "print(type(valor_str))\n",
    "\n",
    "print(100 // 2)\n",
    "print('-=-' * 10)"
   ]
  }
 ],
 "metadata": {
  "kernelspec": {
   "display_name": "Python 3",
   "language": "python",
   "name": "python3"
  },
  "language_info": {
   "codemirror_mode": {
    "name": "ipython",
    "version": 3
   },
   "file_extension": ".py",
   "mimetype": "text/x-python",
   "name": "python",
   "nbconvert_exporter": "python",
   "pygments_lexer": "ipython3",
   "version": "3.12.2"
  }
 },
 "nbformat": 4,
 "nbformat_minor": 2
}
