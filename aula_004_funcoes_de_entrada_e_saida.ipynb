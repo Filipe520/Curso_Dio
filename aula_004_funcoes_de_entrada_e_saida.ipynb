{
 "cells": [
  {
   "cell_type": "code",
   "execution_count": 1,
   "metadata": {},
   "outputs": [
    {
     "name": "stdout",
     "output_type": "stream",
     "text": [
      "Bem-Vindo Filipe\n"
     ]
    }
   ],
   "source": [
    "nome = input(\"Digite seu nome? \")\n",
    "print(f\"Bem-Vindo {nome}\")"
   ]
  },
  {
   "cell_type": "code",
   "execution_count": 5,
   "metadata": {},
   "outputs": [
    {
     "name": "stdout",
     "output_type": "stream",
     "text": [
      "Filipe 25\n",
      "Filipe 25... \n",
      "Filipe#25\n"
     ]
    }
   ],
   "source": [
    "nome2 = str(input(\"Informe seu nome: \"))\n",
    "idade = int(input(\"Infrome a sua idade: \"))\n",
    "\n",
    "print(nome2, idade)\n",
    "print(nome2, idade, end=\"... \\n\")\n",
    "print(nome2, idade, sep=\"#\")"
   ]
  }
 ],
 "metadata": {
  "kernelspec": {
   "display_name": "Python 3",
   "language": "python",
   "name": "python3"
  },
  "language_info": {
   "codemirror_mode": {
    "name": "ipython",
    "version": 3
   },
   "file_extension": ".py",
   "mimetype": "text/x-python",
   "name": "python",
   "nbconvert_exporter": "python",
   "pygments_lexer": "ipython3",
   "version": "3.12.2"
  }
 },
 "nbformat": 4,
 "nbformat_minor": 2
}
