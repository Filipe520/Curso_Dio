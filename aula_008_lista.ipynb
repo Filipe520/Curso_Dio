{
 "cells": [
  {
   "cell_type": "code",
   "execution_count": 14,
   "metadata": {},
   "outputs": [
    {
     "name": "stdout",
     "output_type": "stream",
     "text": [
      "Uva\n",
      "['Limão', 'Pera']\n",
      "Pera\n",
      "y\n",
      "5\n",
      "São Paulo,\n"
     ]
    }
   ],
   "source": [
    "frutas = [\"Laranja\", \"Maça\", \"Uva\"]\n",
    "print(frutas[2])\n",
    "frutas2 = []\n",
    "frutas2.append(\"Pera\")\n",
    "frutas2.append(\"Limão\")\n",
    "frutas2.sort()\n",
    "print(frutas2)\n",
    "print(frutas2[1])\n",
    "letras = list(\"python\")\n",
    "print(letras[1])\n",
    "numeros = list(range(10))\n",
    "print(numeros[5])\n",
    "carro = [\"Ferrari\", \"F8\", 4200000, 2020, 2900, \"São Paulo,\", True]\n",
    "print(carro[-2])\n",
    "\n"
   ]
  },
  {
   "cell_type": "code",
   "execution_count": 16,
   "metadata": {},
   "outputs": [
    {
     "name": "stdout",
     "output_type": "stream",
     "text": [
      "[1, 'a', 2]\n",
      "1\n",
      "2\n",
      "c\n"
     ]
    }
   ],
   "source": [
    "matriz = [\n",
    "    [1, \"a\", 2],\n",
    "    [\"b\", 3, 4],\n",
    "    [6, 5, \"c\"]\n",
    "]\n",
    "\n",
    "print(matriz[0])\n",
    "print(matriz[0][0])\n",
    "print(matriz[0][-1])\n",
    "print(matriz[-1][-1])"
   ]
  },
  {
   "cell_type": "code",
   "execution_count": 20,
   "metadata": {},
   "outputs": [
    {
     "name": "stdout",
     "output_type": "stream",
     "text": [
      "['t', 'h', 'o', 'n']\n",
      "['p', 'y']\n",
      "['y', 't']\n",
      "['p', 't']\n",
      "['p', 'y', 't', 'h', 'o', 'n']\n",
      "['n', 'o', 'h', 't', 'y', 'p']\n",
      "python0: gol\n",
      "1: celta\n",
      "2: palio\n"
     ]
    }
   ],
   "source": [
    "lista = [\"p\", \"y\", \"t\", \"h\", \"o\", \"n\"]\n",
    "\n",
    "print(lista[2:]) # [\"t\", \"h\", \"o\", \"n\"]\n",
    "print(lista[:2]) # [\"p\", \"y\"]\n",
    "print(lista[1:3])# [\"y\", \"t\"]\n",
    "print(lista[0:3:2])# [\"p\", \"t\"]\n",
    "print(lista[::]) # [\"p\", \"t\", \"h\", \"o\", \"n\"]\n",
    "print(lista[::-1]) # [\"n\", \"o\", \"h\", \"t\", \"p\"]\n",
    "\n",
    "\n",
    "for lingua in lista:\n",
    "    print(lingua, end='')\n",
    "\n",
    "carros = [\"gol\", \"celta\", \"palio\"]\n",
    "\n",
    "for indice, carro in enumerate(carros):\n",
    "    print(f\"{indice}: {carro}\")"
   ]
  },
  {
   "cell_type": "code",
   "execution_count": 25,
   "metadata": {},
   "outputs": [
    {
     "name": "stdout",
     "output_type": "stream",
     "text": [
      "[1, 21, 9, 65]\n"
     ]
    }
   ],
   "source": [
    "numeros = [1, 30, 21, 2, 9, 65, 34]\n",
    "pares = []\n",
    "\n",
    "for numero in numeros:\n",
    "    if numero % 2 == 0:\n",
    "        pares.append(numero)\n",
    "print(pares)"
   ]
  },
  {
   "cell_type": "code",
   "execution_count": 26,
   "metadata": {},
   "outputs": [
    {
     "name": "stdout",
     "output_type": "stream",
     "text": [
      "[30, 2, 34]\n"
     ]
    }
   ],
   "source": [
    "numeros = [1, 30, 21, 2, 9, 65, 34]\n",
    "pares = [numero for numero in numeros if numero % 2 == 0]\n",
    "print(pares)"
   ]
  },
  {
   "cell_type": "code",
   "execution_count": 27,
   "metadata": {},
   "outputs": [
    {
     "name": "stdout",
     "output_type": "stream",
     "text": [
      "[1, 900, 441, 4, 81, 4225, 1156]\n"
     ]
    }
   ],
   "source": [
    "numeros = [1, 30, 21, 2, 9, 65, 34]\n",
    "quadrado = []\n",
    "\n",
    "for numero in numeros:\n",
    "    quadrado.append(numero ** 2)\n",
    "print(quadrado)"
   ]
  },
  {
   "cell_type": "code",
   "execution_count": 28,
   "metadata": {},
   "outputs": [
    {
     "name": "stdout",
     "output_type": "stream",
     "text": [
      "[1, 900, 441, 4, 81, 4225, 1156]\n"
     ]
    }
   ],
   "source": [
    "numeros = [1, 30, 21, 2, 9, 65, 34]\n",
    "quadrado = [numero ** 2 for numero in numeros]\n",
    "print(quadrado)"
   ]
  },
  {
   "cell_type": "code",
   "execution_count": 29,
   "metadata": {},
   "outputs": [
    {
     "name": "stdout",
     "output_type": "stream",
     "text": [
      "[1, 'Python', [40, 30, 20]]\n"
     ]
    }
   ],
   "source": [
    "lista = []\n",
    "\n",
    "lista.append(1)\n",
    "lista.append(\"Python\")\n",
    "lista.append([40, 30, 20])\n",
    "\n",
    "print(lista)"
   ]
  },
  {
   "cell_type": "code",
   "execution_count": 30,
   "metadata": {},
   "outputs": [
    {
     "name": "stdout",
     "output_type": "stream",
     "text": [
      "[1, 'Python', [40, 30, 20]]\n",
      "[]\n"
     ]
    }
   ],
   "source": [
    "lista = [1, 'Python', [40, 30, 20]]\n",
    "\n",
    "print(lista)\n",
    "\n",
    "lista.clear()\n",
    "\n",
    "print(lista)"
   ]
  },
  {
   "cell_type": "code",
   "execution_count": null,
   "metadata": {},
   "outputs": [],
   "source": [
    " "
   ]
  },
  {
   "cell_type": "code",
   "execution_count": 36,
   "metadata": {},
   "outputs": [
    {
     "name": "stdout",
     "output_type": "stream",
     "text": [
      "1454002115648 1454002021312\n",
      "[2, 'Python', [40, 30, 20]]\n"
     ]
    }
   ],
   "source": [
    "lista = [1, 'Python', [40, 30, 20]]\n",
    "\n",
    "l2 = lista.copy()\n",
    "l2[0] = 2\n",
    "print(id(l2), id(lista))\n",
    "print(l2)"
   ]
  },
  {
   "cell_type": "code",
   "execution_count": 37,
   "metadata": {},
   "outputs": [
    {
     "name": "stdout",
     "output_type": "stream",
     "text": [
      "1\n",
      "2\n",
      "1\n"
     ]
    }
   ],
   "source": [
    "cores = [\"Vermelho\", \"Azul\", \"Verde\", \"Azul\"]\n",
    "\n",
    "print(cores.count(\"Vermelho\"))\n",
    "print(cores.count(\"Azul\"))\n",
    "print(cores.count(\"Verde\"))\n",
    "\n"
   ]
  },
  {
   "cell_type": "code",
   "execution_count": 38,
   "metadata": {},
   "outputs": [
    {
     "name": "stdout",
     "output_type": "stream",
     "text": [
      "['python', 'js', 'c']\n",
      "['python', 'js', 'c', 'java', 'csharp']\n"
     ]
    }
   ],
   "source": [
    "linguagens = [\"python\", \"js\", \"c\"]\n",
    "print(linguagens)\n",
    "linguagens.extend([\"java\", \"csharp\"])\n",
    "print(linguagens)"
   ]
  },
  {
   "cell_type": "code",
   "execution_count": 41,
   "metadata": {},
   "outputs": [
    {
     "name": "stdout",
     "output_type": "stream",
     "text": [
      "3\n",
      "0\n"
     ]
    }
   ],
   "source": [
    "linguagens = ['python', 'js', 'c', 'java', 'csharp']\n",
    "\n",
    "print(linguagens.index(\"java\"))\n",
    "print(linguagens.index(\"python\"))"
   ]
  },
  {
   "cell_type": "code",
   "execution_count": 45,
   "metadata": {},
   "outputs": [
    {
     "name": "stdout",
     "output_type": "stream",
     "text": [
      "csharp\n",
      "java\n",
      "c\n",
      "js\n",
      "python\n"
     ]
    }
   ],
   "source": [
    "linguagens = ['python', 'js', 'c', 'java', 'csharp']\n",
    "\n",
    "print(linguagens.pop())\n",
    "print(linguagens.pop())\n",
    "print(linguagens.pop())\n",
    "print(linguagens.pop())\n",
    "print(linguagens.pop())"
   ]
  },
  {
   "cell_type": "code",
   "execution_count": 46,
   "metadata": {},
   "outputs": [
    {
     "name": "stdout",
     "output_type": "stream",
     "text": [
      "['python', 'js', 'java', 'csharp']\n"
     ]
    }
   ],
   "source": [
    "linguagens = ['python', 'js', 'c', 'java', 'csharp']\n",
    "\n",
    "linguagens.remove(\"c\")\n",
    "\n",
    "print(linguagens)\n"
   ]
  },
  {
   "cell_type": "code",
   "execution_count": 47,
   "metadata": {},
   "outputs": [
    {
     "name": "stdout",
     "output_type": "stream",
     "text": [
      "['csharp', 'java', 'c', 'js', 'python']\n"
     ]
    }
   ],
   "source": [
    "linguagens = ['python', 'js', 'c', 'java', 'csharp']\n",
    "\n",
    "linguagens.reverse()\n",
    "\n",
    "print(linguagens)"
   ]
  },
  {
   "cell_type": "code",
   "execution_count": 59,
   "metadata": {},
   "outputs": [
    {
     "name": "stdout",
     "output_type": "stream",
     "text": [
      "['c', 'csharp', 'java', 'js', 'python']\n"
     ]
    }
   ],
   "source": [
    "linguagens = ['python', 'js', 'c', 'java', 'csharp']\n",
    "linguagens.sort()\n",
    "print(linguagens)"
   ]
  },
  {
   "cell_type": "code",
   "execution_count": 57,
   "metadata": {},
   "outputs": [
    {
     "name": "stdout",
     "output_type": "stream",
     "text": [
      "['python', 'js', 'java', 'csharp', 'c']\n"
     ]
    }
   ],
   "source": [
    "linguagens = ['python', 'js', 'c', 'java', 'csharp']\n",
    "linguagens.sort(reverse=True)\n",
    "print(linguagens)"
   ]
  },
  {
   "cell_type": "code",
   "execution_count": 55,
   "metadata": {},
   "outputs": [
    {
     "name": "stdout",
     "output_type": "stream",
     "text": [
      "['c', 'js', 'java', 'python', 'csharp']\n"
     ]
    }
   ],
   "source": [
    "linguagens = ['python', 'js', 'c', 'java', 'csharp']\n",
    "linguagens.sort(key=lambda x: len(x))\n",
    "print(linguagens)"
   ]
  },
  {
   "cell_type": "code",
   "execution_count": 56,
   "metadata": {},
   "outputs": [
    {
     "name": "stdout",
     "output_type": "stream",
     "text": [
      "['python', 'csharp', 'java', 'js', 'c']\n"
     ]
    }
   ],
   "source": [
    "linguagens = ['python', 'js', 'c', 'java', 'csharp']\n",
    "linguagens.sort(key=lambda x: len(x), reverse=True)\n",
    "print(linguagens)"
   ]
  },
  {
   "cell_type": "code",
   "execution_count": 63,
   "metadata": {},
   "outputs": [
    {
     "name": "stdout",
     "output_type": "stream",
     "text": [
      "5\n"
     ]
    }
   ],
   "source": [
    "linguagens = ['python', 'js', 'c', 'java', 'csharp']\n",
    "print(len(linguagens))"
   ]
  },
  {
   "cell_type": "code",
   "execution_count": 67,
   "metadata": {},
   "outputs": [
    {
     "name": "stdout",
     "output_type": "stream",
     "text": [
      "['c', 'js', 'java', 'python', 'csharp']\n"
     ]
    }
   ],
   "source": [
    "linguagens = ['python', 'js', 'c', 'java', 'csharp']\n",
    "print(sorted(linguagens, key=lambda x: len(x)))"
   ]
  },
  {
   "cell_type": "code",
   "execution_count": 66,
   "metadata": {},
   "outputs": [
    {
     "name": "stdout",
     "output_type": "stream",
     "text": [
      "['python', 'csharp', 'java', 'js', 'c']\n"
     ]
    }
   ],
   "source": [
    "linguagens = ['python', 'js', 'c', 'java', 'csharp']\n",
    "print(sorted(linguagens, key=lambda x: len(x), reverse=True))"
   ]
  }
 ],
 "metadata": {
  "kernelspec": {
   "display_name": "Python 3",
   "language": "python",
   "name": "python3"
  },
  "language_info": {
   "codemirror_mode": {
    "name": "ipython",
    "version": 3
   },
   "file_extension": ".py",
   "mimetype": "text/x-python",
   "name": "python",
   "nbconvert_exporter": "python",
   "pygments_lexer": "ipython3",
   "version": "3.12.2"
  }
 },
 "nbformat": 4,
 "nbformat_minor": 2
}
