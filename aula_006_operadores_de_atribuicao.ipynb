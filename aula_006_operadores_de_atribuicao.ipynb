{
 "cells": [
  {
   "cell_type": "code",
   "execution_count": 5,
   "metadata": {},
   "outputs": [
    {
     "name": "stdout",
     "output_type": "stream",
     "text": [
      "0.0\n"
     ]
    }
   ],
   "source": [
    "saldo = 500\n",
    "saldo += 100\n",
    "saldo -= 40\n",
    "saldo *= 10\n",
    "saldo //= 2\n",
    "saldo /= 1\n",
    "saldo %= 50\n",
    "saldo **= 2\n",
    "print(saldo)"
   ]
  },
  {
   "cell_type": "code",
   "execution_count": null,
   "metadata": {},
   "outputs": [],
   "source": [
    "saldo = 500\n",
    "print(saldo)"
   ]
  },
  {
   "cell_type": "code",
   "execution_count": 17,
   "metadata": {},
   "outputs": [
    {
     "name": "stdout",
     "output_type": "stream",
     "text": [
      "Dentro do array tem Laranja?\n",
      "False\n",
      "Dentro do array Frutas não tem Maçã?\n",
      "True\n",
      "Dentro do array tem Laranja?\n",
      "True\n"
     ]
    }
   ],
   "source": [
    "frutas = [\"Limão\", \"Uva\"]\n",
    "print(\"Dentro do array tem Laranja?\")\n",
    "print(\"Laranja\" in frutas)\n",
    "print(\"Dentro do array Frutas não tem Maçã?\")\n",
    "print(\"Maçã\" not in frutas)\n",
    "frutas.append(\"Laranja\")\n",
    "print(\"Dentro do array tem Laranja?\")\n",
    "print(\"Laranja\" in frutas)"
   ]
  },
  {
   "cell_type": "code",
   "execution_count": 24,
   "metadata": {},
   "outputs": [
    {
     "name": "stdout",
     "output_type": "stream",
     "text": [
      "valor sacado!\n",
      "retire o seu dinheiro na boca do caixa.\n",
      "Obrigado por ser nosso cliente, tenha um bom dia!\n",
      "700\n"
     ]
    }
   ],
   "source": [
    "def sacar(valor):\n",
    "    saldo = 500\n",
    "\n",
    "    if saldo >= valor:\n",
    "        print(\"valor sacado!\")\n",
    "        print(\"retire o seu dinheiro na boca do caixa.\")\n",
    "    if valor > saldo:\n",
    "        print(\"O valor sacado é maio que saldo!\")\n",
    "\n",
    "    print(\"Obrigado por ser nosso cliente, tenha um bom dia!\")\n",
    "\n",
    "sacar(100)\n",
    "\n",
    "def depositar(valor):\n",
    "    saldo = 500\n",
    "    saldo += valor\n",
    "    print(saldo)\n",
    "\n",
    "depositar(200)"
   ]
  },
  {
   "cell_type": "code",
   "execution_count": 31,
   "metadata": {},
   "outputs": [
    {
     "name": "stdout",
     "output_type": "stream",
     "text": [
      "Pode fazer aula teóricas, mas não pode fazer aulas práticas.\n"
     ]
    }
   ],
   "source": [
    "maior_idade = 18\n",
    "idade_especial = 12\n",
    "\n",
    "idade = int(input(\"Informe sua idade: \"))\n",
    "\n",
    "if idade >= maior_idade:\n",
    "    print(\"Maior de idade, pode tirar a CNH.\")\n",
    "elif idade == idade_especial:\n",
    "    print(\"Pode fazer aula teóricas, mas não pode fazer aulas práticas.\")\n",
    "else:\n",
    "    print(\"Ainda não pode tirar a CNH.\")"
   ]
  },
  {
   "cell_type": "code",
   "execution_count": 40,
   "metadata": {},
   "outputs": [
    {
     "name": "stdout",
     "output_type": "stream",
     "text": [
      "Conta especial selecionada!\n"
     ]
    }
   ],
   "source": [
    "conta_normal = False\n",
    "conta_universitaria = False\n",
    "conta_especial = True\n",
    "\n",
    "saldo = 7500\n",
    "saque = 5500\n",
    "cheque_especial = 450\n",
    "\n",
    "if conta_normal:\n",
    "    if saldo >= saque:\n",
    "        print(\"Saque realizado com sucesso!\")\n",
    "    elif saque <= (saldo + cheque_especial):\n",
    "        print(\"Saque realizado com uso do cheque especial!\")\n",
    "    else:\n",
    "        print(\"Não foi possivel realizar o saque!, saldo insuficiente!\")\n",
    "elif conta_universitaria:\n",
    "    if saldo >= saque:\n",
    "        print(\"Saque realizado com sucesso!\")\n",
    "    else:\n",
    "        print(\"Saldo insuficiente!\")\n",
    "elif conta_especial:\n",
    "    print(\"Conta especial selecionada!\")\n",
    "else:\n",
    "    print(\"Sistema não reconheceu seu tipo de conta, entre em contato com o seu gerente.\")"
   ]
  },
  {
   "cell_type": "code",
   "execution_count": 42,
   "metadata": {},
   "outputs": [
    {
     "name": "stdout",
     "output_type": "stream",
     "text": [
      "Falha ao realiizar o saque!\n"
     ]
    }
   ],
   "source": [
    "saldo = 2000\n",
    "saque = 5000\n",
    "\n",
    "status = \"Sucesso\" if saldo >= saque else \"Falha\"\n",
    "\n",
    "print(f\"{status} ao realiizar o saque!\")"
   ]
  },
  {
   "cell_type": "code",
   "execution_count": 4,
   "metadata": {},
   "outputs": [
    {
     "name": "stdout",
     "output_type": "stream",
     "text": [
      "aoai\n",
      " Executa no final do laço\n"
     ]
    }
   ],
   "source": [
    "texto = str(input(\"Digite um texto: \"))\n",
    "VOGAIS = \"AEIOU\"\n",
    "\n",
    "for letra in texto:\n",
    "    if letra.upper() in VOGAIS:\n",
    "        print(letra, end=\"\")\n",
    "else:\n",
    "    print(\"\\nExecuta no final do laço\")\n"
   ]
  },
  {
   "cell_type": "code",
   "execution_count": 8,
   "metadata": {},
   "outputs": [
    {
     "name": "stdout",
     "output_type": "stream",
     "text": [
      "0 > 5 > 10 > 15 > 20 > 25 > 30 > 35 > 40 > 45 > 50 > "
     ]
    }
   ],
   "source": [
    "for numero in range(0, 51, 5):\n",
    "    print(numero, end=\" > \")"
   ]
  },
  {
   "cell_type": "code",
   "execution_count": 16,
   "metadata": {},
   "outputs": [
    {
     "name": "stdout",
     "output_type": "stream",
     "text": [
      "[1] Sacar \n",
      "[2] Extrato \n",
      "[0] Sair \n",
      "\n",
      "-=--=--=--=--=--=--=--=--=--=--=--=--=--=--=-\n",
      "Obrigado por usar nosso sistema bancário, até logo!\n"
     ]
    }
   ],
   "source": [
    "opcao = -1\n",
    "print(\"[1] Sacar \\n[2] Extrato \\n[0] Sair \\n\")\n",
    "print(\"-=-\" * 15)\n",
    "while opcao != 0:\n",
    "    opcao = int(input(\"Digite uma opção: \"))\n",
    "\n",
    "    if opcao == 1:\n",
    "        print(\"Sacando...\")\n",
    "    elif opcao == 2:\n",
    "        print(\"imprimindo extrato...\")\n",
    "    else:\n",
    "        print(\"Obrigado por usar nosso sistema bancário, até logo!\")"
   ]
  },
  {
   "cell_type": "code",
   "execution_count": 18,
   "metadata": {},
   "outputs": [
    {
     "name": "stdout",
     "output_type": "stream",
     "text": [
      "Ele é Par\n"
     ]
    }
   ],
   "source": [
    "while True:\n",
    "    opcao = int(input(\"Informe um número: \"))\n",
    "\n",
    "    if opcao % 2 == 0:\n",
    "        print(\"Ele é PAR!\")\n",
    "        break\n",
    "    else:\n",
    "        print(\"Ele é ÍMPAR!\")\n",
    "        break"
   ]
  },
  {
   "cell_type": "code",
   "execution_count": 30,
   "metadata": {},
   "outputs": [
    {
     "name": "stdout",
     "output_type": "stream",
     "text": [
      "1 3 5 7 9 11 13 15 17 19 21 23 25 27 29 31 33 35 37 39 41 43 45 47 49 "
     ]
    }
   ],
   "source": [
    "# \n",
    "\n",
    "for numero in range(1, 50+1):\n",
    "    if numero % 2 == 0:\n",
    "        continue\n",
    "\n",
    "    print(numero, end=\" \")"
   ]
  }
 ],
 "metadata": {
  "kernelspec": {
   "display_name": "Python 3",
   "language": "python",
   "name": "python3"
  },
  "language_info": {
   "codemirror_mode": {
    "name": "ipython",
    "version": 3
   },
   "file_extension": ".py",
   "mimetype": "text/x-python",
   "name": "python",
   "nbconvert_exporter": "python",
   "pygments_lexer": "ipython3",
   "version": "3.12.2"
  }
 },
 "nbformat": 4,
 "nbformat_minor": 2
}
