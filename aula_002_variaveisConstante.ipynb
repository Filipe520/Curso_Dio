{
 "cells": [
  {
   "cell_type": "code",
   "execution_count": 6,
   "metadata": {},
   "outputs": [
    {
     "name": "stdout",
     "output_type": "stream",
     "text": [
      "Filipe Alves 16\n",
      "['SP', 'RJ', 'SC', 'RS']\n"
     ]
    }
   ],
   "source": [
    "nome = \"Filipe\"\n",
    "idade = 25\n",
    "\n",
    "nome, idade = \"Filipe Alves\", 16\n",
    "\n",
    "print(nome, idade)\n",
    "limiteSaqueDiario = 1000\n",
    "\n",
    "BRASILIAN_STATES = [\"SP\", \"RJ\", \"SC\", \"RS\"]\n",
    "print(BRASILIAN_STATES)"
   ]
  }
 ],
 "metadata": {
  "kernelspec": {
   "display_name": "Python 3",
   "language": "python",
   "name": "python3"
  },
  "language_info": {
   "codemirror_mode": {
    "name": "ipython",
    "version": 3
   },
   "file_extension": ".py",
   "mimetype": "text/x-python",
   "name": "python",
   "nbconvert_exporter": "python",
   "pygments_lexer": "ipython3",
   "version": "3.12.2"
  }
 },
 "nbformat": 4,
 "nbformat_minor": 2
}
