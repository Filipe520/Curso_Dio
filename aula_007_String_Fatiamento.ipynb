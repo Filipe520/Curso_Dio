{
 "cells": [
  {
   "cell_type": "code",
   "execution_count": 61,
   "metadata": {},
   "outputs": [
    {
     "name": "stdout",
     "output_type": "stream",
     "text": [
      "-=--=--=--=--=--=--=--=--=--=--=--=--=--=--=-\n",
      "Upper Vai colocar tudo para maiúsculas.\n",
      "PYTHON\n",
      "-=--=--=--=--=--=--=--=--=--=--=--=--=--=--=-\n",
      "Lower Vai colocar tudo para minúsculas.\n",
      "python\n",
      "-=--=--=--=--=--=--=--=--=--=--=--=--=--=--=-\n",
      "Title deixar a primeira letra em maiúscula das frases.\n",
      "Python\n",
      "-=--=--=--=--=--=--=--=--=--=--=--=--=--=--=-\n",
      "Strip vai remove os espaços em branco da esquerda é da direita.\n",
      "python\n",
      "-=--=--=--=--=--=--=--=--=--=--=--=--=--=--=-\n",
      "Lstrip vai remove os espaços em branco da esquerda.\n",
      "python\n",
      "-=--=--=--=--=--=--=--=--=--=--=--=--=--=--=-\n",
      "Rstrip vai remove os espaços em branco da direita.\n",
      "python\n",
      "-=--=--=--=--=--=--=--=--=--=--=--=--=--=--=-\n",
      "Center Vai centralizar o texto no meio.\n",
      "       python       \n",
      "-=--=--=--=--=--=--=--=--=--=--=--=--=--=--=-\n",
      "O join vai passar item a item é vai colocar alguma coisa, até termina, é bem parecido com o for.\n",
      "p > y > t > h > o > n\n",
      "-=--=--=--=--=--=--=--=--=--=--=--=--=--=--=-\n",
      "nohtyp\n"
     ]
    }
   ],
   "source": [
    "curso = \"python\"\n",
    "print(\"-=-\" * 15)\n",
    "print(\"Upper Vai colocar tudo para maiúsculas.\")\n",
    "print(curso.upper())\n",
    "print(\"-=-\" * 15)\n",
    "print(\"Lower Vai colocar tudo para minúsculas.\")\n",
    "print(curso.lower())\n",
    "print(\"-=-\" * 15)\n",
    "print(\"Title deixar a primeira letra em maiúscula das frases.\")\n",
    "print(curso.title())\n",
    "print(\"-=-\" * 15)\n",
    "print(\"Strip vai remove os espaços em branco da esquerda é da direita.\")\n",
    "print(curso.strip())\n",
    "print(\"-=-\" * 15)\n",
    "print(\"Lstrip vai remove os espaços em branco da esquerda.\")\n",
    "print(curso.lstrip())\n",
    "print(\"-=-\" * 15)\n",
    "print(\"Rstrip vai remove os espaços em branco da direita.\")\n",
    "print(curso.rstrip())\n",
    "print(\"-=-\" * 15)\n",
    "print(\"Center Vai centralizar o texto no meio.\")\n",
    "print(curso.center(20, \" \"))\n",
    "print(\"-=-\" * 15)\n",
    "print(\"O join vai passar item a item é vai colocar alguma coisa, até termina, é bem parecido com o for.\")\n",
    "print(\" > \".join(curso))\n",
    "print(\"-=-\" * 15)\n",
    "print(curso[::-1])"
   ]
  },
  {
   "cell_type": "code",
   "execution_count": 33,
   "metadata": {},
   "outputs": [
    {
     "name": "stdout",
     "output_type": "stream",
     "text": [
      "Nome: Filipe Idade: 26\n",
      "-=--=--=--=--=--=--=--=--=--=--=--=--=--=--=-\n",
      "Nome: Filipe Idade: 26\n",
      "-=--=--=--=--=--=--=--=--=--=--=--=--=--=--=-\n",
      "Nome: Filipe Idade: 26\n",
      "-=--=--=--=--=--=--=--=--=--=--=--=--=--=--=-\n",
      "Nome: Filipe Idade: 26\n",
      "-=--=--=--=--=--=--=--=--=--=--=--=--=--=--=-\n",
      "Nome: Filipe Idade: 26 Filipe 26\n",
      "-=--=--=--=--=--=--=--=--=--=--=--=--=--=--=-\n",
      "Nome: Filipe Idade: 26\n",
      "-=--=--=--=--=--=--=--=--=--=--=--=--=--=--=-\n",
      "Nome: Filipe Idade: 26\n",
      "-=--=--=--=--=--=--=--=--=--=--=--=--=--=--=-\n",
      "Nome: Filipe idade: 26 saldo: 45.43\n",
      "-=--=--=--=--=--=--=--=--=--=--=--=--=--=--=-\n",
      "Nome: Filipe idade: 26 saldo:      45.43\n"
     ]
    }
   ],
   "source": [
    "nome = \"Filipe\"\n",
    "idade = 26\n",
    "profissao = \"Programador\"\n",
    "linguagem = \"Python\"\n",
    "saldo = 45.43\n",
    "\n",
    "\n",
    "dados = {\"nome\": \"Filipe\", \"idade\": 26}\n",
    "\n",
    "print(\"Nome: %s Idade: %d\" % (nome, idade))\n",
    "print(\"-=-\" * 15)\n",
    "print(\"Nome: {} Idade: {}\".format(nome, idade))\n",
    "print(\"-=-\" * 15)\n",
    "print(\"Nome: {1} Idade: {0}\".format(idade, nome))\n",
    "print(\"-=-\" * 15)\n",
    "print(\"Nome: {nome} Idade: {idade}\".format(nome=nome, idade=idade))\n",
    "print(\"-=-\" * 15)\n",
    "print(\"Nome: {nome} Idade: {age} {nome} {age}\".format(nome=nome, age=idade))\n",
    "print(\"-=-\" * 15)\n",
    "print(\"Nome: {nome} Idade: {idade}\".format(**dados))\n",
    "print(\"-=-\" * 15)\n",
    "print(f\"Nome: {nome} Idade: {idade}\")\n",
    "print(\"-=-\" * 15)\n",
    "print(f\"Nome: {nome} idade: {idade} saldo: {saldo:.2f}\")\n",
    "print(\"-=-\" * 15)\n",
    "print(f\"Nome: {nome} idade: {idade} saldo: {saldo:10.2f}\")"
   ]
  },
  {
   "cell_type": "code",
   "execution_count": 38,
   "metadata": {},
   "outputs": [
    {
     "name": "stdout",
     "output_type": "stream",
     "text": [
      "F\n",
      "e\n",
      "Filipe Al\n",
      "es\n",
      "es\n",
      "e\n",
      "Filipe Alves\n",
      "sevlA epiliF\n"
     ]
    }
   ],
   "source": [
    "nome = \"Filipe Alves\"\n",
    "\n",
    "print(nome[0])\n",
    "print(nome[-2])\n",
    "print(nome[:9])\n",
    "print(nome[10:])\n",
    "print(nome[10:16])\n",
    "print(nome[10:16:2])\n",
    "print(nome[:])\n",
    "print(nome[::-1])"
   ]
  },
  {
   "cell_type": "code",
   "execution_count": 60,
   "metadata": {},
   "outputs": [
    {
     "name": "stdout",
     "output_type": "stream",
     "text": [
      "d\n",
      "    =========== Filipe ===========\n",
      "\n",
      "1 - Depositar\n",
      "2 - Sacar\n",
      "0 - Sair\n",
      "\n",
      "=======================================\n",
      "    Obrigao por usar nosso sistema!!\n",
      "\n"
     ]
    }
   ],
   "source": [
    "nome = \" Filipe \"\n",
    "print(f\"\"\"\n",
    "    {nome.center(30, \"=\")}\n",
    "\n",
    "1 - Depositar\n",
    "2 - Sacar\n",
    "0 - Sair\n",
    "\n",
    "=======================================\n",
    "    Obrigao por usar nosso sistema!!\n",
    "\"\"\")"
   ]
  }
 ],
 "metadata": {
  "kernelspec": {
   "display_name": "Python 3",
   "language": "python",
   "name": "python3"
  },
  "language_info": {
   "codemirror_mode": {
    "name": "ipython",
    "version": 3
   },
   "file_extension": ".py",
   "mimetype": "text/x-python",
   "name": "python",
   "nbconvert_exporter": "python",
   "pygments_lexer": "ipython3",
   "version": "3.12.2"
  }
 },
 "nbformat": 4,
 "nbformat_minor": 2
}
