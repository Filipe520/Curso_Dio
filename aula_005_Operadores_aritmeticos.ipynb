{
 "cells": [
  {
   "cell_type": "code",
   "execution_count": 7,
   "metadata": {},
   "outputs": [
    {
     "name": "stdout",
     "output_type": "stream",
     "text": [
      "30\n",
      "10\n",
      "2.0\n",
      "2\n",
      "200\n",
      "0\n",
      "10240000000000\n"
     ]
    }
   ],
   "source": [
    "produtos_01 = 20\n",
    "produtos_02 = 10\n",
    "\n",
    "print(produtos_01 + produtos_02)\n",
    "print(produtos_01 - produtos_02)\n",
    "print(produtos_01 / produtos_02)\n",
    "print(produtos_01 // produtos_02)\n",
    "print(produtos_01 * produtos_02)\n",
    "print(produtos_01 % produtos_02)\n",
    "print(produtos_01 ** produtos_02)"
   ]
  },
  {
   "cell_type": "code",
   "execution_count": 12,
   "metadata": {},
   "outputs": [
    {
     "name": "stdout",
     "output_type": "stream",
     "text": [
      "True\n",
      "False\n",
      "False\n",
      "True\n",
      "True\n"
     ]
    }
   ],
   "source": [
    "saldo = 200\n",
    "saque = 200\n",
    "\n",
    "print(saldo == saque)\n",
    "print(saldo != saque)\n",
    "print(saldo > saque)\n",
    "print(saldo >= saque)\n",
    "print(saldo <= saque)"
   ]
  }
 ],
 "metadata": {
  "kernelspec": {
   "display_name": "Python 3",
   "language": "python",
   "name": "python3"
  },
  "language_info": {
   "codemirror_mode": {
    "name": "ipython",
    "version": 3
   },
   "file_extension": ".py",
   "mimetype": "text/x-python",
   "name": "python",
   "nbconvert_exporter": "python",
   "pygments_lexer": "ipython3",
   "version": "3.12.2"
  }
 },
 "nbformat": 4,
 "nbformat_minor": 2
}
