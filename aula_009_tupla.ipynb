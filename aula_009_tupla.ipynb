{
 "cells": [
  {
   "cell_type": "code",
   "execution_count": 1,
   "metadata": {},
   "outputs": [
    {
     "name": "stdout",
     "output_type": "stream",
     "text": [
      "pera\n"
     ]
    }
   ],
   "source": [
    "frutas = (\"laranja\", \"pera\", \"uva\",)\n",
    "\n",
    "letra = tuple(\"python\")\n",
    "\n",
    "numeros = tuple([1, 2, 3, 4])\n",
    "\n",
    "pais = (\"Brasil\",)\n",
    "\n",
    "print(frutas[1])"
   ]
  },
  {
   "cell_type": "code",
   "execution_count": 2,
   "metadata": {},
   "outputs": [
    {
     "name": "stdout",
     "output_type": "stream",
     "text": [
      "(1, 'a', 2)\n",
      "1\n",
      "2\n",
      "c\n"
     ]
    }
   ],
   "source": [
    "matriz = (\n",
    "    (1, \"a\", 2),\n",
    "    (\"b\", 3, 4),\n",
    "    (6, 5, \"c\")\n",
    ")\n",
    "\n",
    "print(matriz[0])\n",
    "print(matriz[0][0])\n",
    "print(matriz[0][-1])\n",
    "print(matriz[-1][-1])"
   ]
  }
 ],
 "metadata": {
  "kernelspec": {
   "display_name": "Python 3",
   "language": "python",
   "name": "python3"
  },
  "language_info": {
   "codemirror_mode": {
    "name": "ipython",
    "version": 3
   },
   "file_extension": ".py",
   "mimetype": "text/x-python",
   "name": "python",
   "nbconvert_exporter": "python",
   "pygments_lexer": "ipython3",
   "version": "3.12.2"
  }
 },
 "nbformat": 4,
 "nbformat_minor": 2
}
